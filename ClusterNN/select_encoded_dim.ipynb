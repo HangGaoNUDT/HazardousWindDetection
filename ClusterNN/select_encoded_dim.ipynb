{
 "cells": [
  {
   "cell_type": "code",
   "execution_count": 1,
   "id": "e9bc2991",
   "metadata": {},
   "outputs": [
    {
     "name": "stderr",
     "output_type": "stream",
     "text": [
      "D:\\anaconda\\envs\\tf_gpu\\lib\\site-packages\\tensorflow\\python\\client\\session.py:1766: UserWarning: An interactive session is already active. This can cause out-of-memory errors in some cases. You must explicitly call `InteractiveSession.close()` to release resources held by the other session(s).\n",
      "  warnings.warn('An interactive session is already active. This can '\n",
      "D:\\anaconda\\envs\\tf_gpu\\lib\\site-packages\\tensorflow\\python\\client\\session.py:1766: UserWarning: An interactive session is already active. This can cause out-of-memory errors in some cases. You must explicitly call `InteractiveSession.close()` to release resources held by the other session(s).\n",
      "  warnings.warn('An interactive session is already active. This can '\n"
     ]
    },
    {
     "name": "stdout",
     "output_type": "stream",
     "text": [
      "INFO:tensorflow:Restoring parameters from pre_ae_ckpt\\model_autoencoder_1.ckpt\n",
      "encoded_dim = 1, reconstruct loss = 0.08574583381414413\n",
      "INFO:tensorflow:Restoring parameters from pre_ae_ckpt\\model_autoencoder_2.ckpt\n",
      "encoded_dim = 2, reconstruct loss = 0.035426247864961624\n",
      "INFO:tensorflow:Restoring parameters from pre_ae_ckpt\\model_autoencoder_3.ckpt\n",
      "encoded_dim = 3, reconstruct loss = 0.023267244920134544\n",
      "INFO:tensorflow:Restoring parameters from pre_ae_ckpt\\model_autoencoder_4.ckpt\n",
      "encoded_dim = 4, reconstruct loss = 0.017323771491646767\n",
      "INFO:tensorflow:Restoring parameters from pre_ae_ckpt\\model_autoencoder_5.ckpt\n",
      "encoded_dim = 5, reconstruct loss = 0.013939342461526394\n",
      "INFO:tensorflow:Restoring parameters from pre_ae_ckpt\\model_autoencoder_6.ckpt\n",
      "encoded_dim = 6, reconstruct loss = 0.0141009371727705\n",
      "INFO:tensorflow:Restoring parameters from pre_ae_ckpt\\model_autoencoder_7.ckpt\n",
      "encoded_dim = 7, reconstruct loss = 0.011774726212024689\n",
      "INFO:tensorflow:Restoring parameters from pre_ae_ckpt\\model_autoencoder_8.ckpt\n",
      "encoded_dim = 8, reconstruct loss = 0.01194921787828207\n",
      "encoded_dim = 9, steps=0, reconstruct loss = 0.9496390223503113\n",
      "encoded_dim = 9, steps=1000, reconstruct loss = 0.08894083648920059\n",
      "encoded_dim = 9, steps=2000, reconstruct loss = 0.09408951550722122\n",
      "encoded_dim = 9, steps=3000, reconstruct loss = 0.03781728446483612\n",
      "encoded_dim = 9, steps=4000, reconstruct loss = 0.036223556846380234\n",
      "encoded_dim = 9, steps=5000, reconstruct loss = 0.02538950927555561\n",
      "encoded_dim = 9, steps=6000, reconstruct loss = 0.020917575806379318\n",
      "encoded_dim = 9, steps=7000, reconstruct loss = 0.018566137179732323\n",
      "encoded_dim = 9, steps=8000, reconstruct loss = 0.01762986183166504\n",
      "encoded_dim = 9, steps=9000, reconstruct loss = 0.015377233736217022\n",
      "encoded_dim = 9, steps=10000, reconstruct loss = 0.011798941530287266\n",
      "INFO:tensorflow:pre_ae_ckpt\\model_autoencoder_9.ckpt is not in all_model_checkpoint_paths. Manually adding it.\n",
      "encoded_dim = 10, steps=0, reconstruct loss = 0.9496390223503113\n",
      "encoded_dim = 10, steps=1000, reconstruct loss = 0.09622258692979813\n",
      "encoded_dim = 10, steps=2000, reconstruct loss = 0.03727239370346069\n",
      "encoded_dim = 10, steps=3000, reconstruct loss = 0.026053067296743393\n",
      "encoded_dim = 10, steps=4000, reconstruct loss = 0.025433693081140518\n",
      "encoded_dim = 10, steps=5000, reconstruct loss = 0.018278345465660095\n",
      "encoded_dim = 10, steps=6000, reconstruct loss = 0.014484420418739319\n",
      "encoded_dim = 10, steps=7000, reconstruct loss = 0.014835761860013008\n",
      "encoded_dim = 10, steps=8000, reconstruct loss = 0.013704923912882805\n",
      "encoded_dim = 10, steps=9000, reconstruct loss = 0.012546135112643242\n",
      "encoded_dim = 10, steps=10000, reconstruct loss = 0.011627892963588238\n",
      "INFO:tensorflow:pre_ae_ckpt\\model_autoencoder_10.ckpt is not in all_model_checkpoint_paths. Manually adding it.\n"
     ]
    }
   ],
   "source": [
    "import  tensorflow.compat.v1 as tf\n",
    "tf.disable_eager_execution()\n",
    "from tensorflow.compat.v1 import ConfigProto\n",
    "from tensorflow.compat.v1 import InteractiveSession\n",
    "config = ConfigProto()\n",
    "config.gpu_options.allow_growth = True\n",
    "session = InteractiveSession(config=config)\n",
    "import os\n",
    "os.environ[\"OMP_NUM_THREADS\"] = '4'\n",
    "from Data_import import data_frame\n",
    "from ClusterNN import *\n",
    "Data = data_frame()\n",
    "reconstruct_losses = np.zeros((1,10))\n",
    "for encoded_dim in [1,2,3,4,5,6,7,8,9,10]:#We suggest to set encodede_dim = 2, and 3 and 4, indepedently, insead of iteratively, because clusternn.train() contains random indexes used for model training.\n",
    "    tf.set_random_seed(1)\n",
    "    np.random.seed(1)\n",
    "    random.seed(1)\n",
    "    ae_nn = autoencoder_NN(encoded_dim = encoded_dim)\n",
    "    reconstruct_loss = ae_nn.train(Data, BATCH_SIZE=1024, pre_train_steps = 20001)\n",
    "    reconstruct_losses[0,encoded_dim-1] = reconstruct_loss\n",
    "scio.savemat(f'reconstruct_losses_encoded_dims.mat',{'reconstruct_losses':reconstruct_losses})"
   ]
  },
  {
   "cell_type": "code",
   "execution_count": 9,
   "id": "189a7e7b",
   "metadata": {},
   "outputs": [
    {
     "data": {
      "image/png": "[encoded data removed]",
      "text/plain": [
       "<Figure size 432x288 with 1 Axes>"
      ]
     },
     "metadata": {
      "needs_background": "light"
     },
     "output_type": "display_data"
    }
   ],
   "source": [
    "import matplotlib.pyplot as plt\n",
    "plt.plot(range(1,11),reconstruct_losses[0],'o-')\n",
    "plt.xlabel('Dimension of the encoded feature space')\n",
    "plt.ylabel('Reconstruct loss')\n",
    "plt.xticks(range(1,11),np.arange(1,11,1))\n",
    "plt.savefig('../figures/encoded_dims.png',dpi=600)"
   ]
  },
  {
   "cell_type": "code",
   "execution_count": null,
   "id": "8b2af487",
   "metadata": {},
   "outputs": [],
   "source": []
  }
 ],
 "metadata": {
  "kernelspec": {
   "display_name": "Python 3 (ipykernel)",
   "language": "python",
   "name": "python3"
  },
  "language_info": {
   "codemirror_mode": {
    "name": "ipython",
    "version": 3
   },
   "file_extension": ".py",
   "mimetype": "text/x-python",
   "name": "python",
   "nbconvert_exporter": "python",
   "pygments_lexer": "ipython3",
   "version": "3.7.0"
  }
 },
 "nbformat": 4,
 "nbformat_minor": 5
}
