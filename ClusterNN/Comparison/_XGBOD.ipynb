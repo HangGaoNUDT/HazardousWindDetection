{
 "cells": [
  {
   "cell_type": "code",
   "execution_count": 1,
   "id": "4a97a6e5",
   "metadata": {},
   "outputs": [],
   "source": [
    "import random\n",
    "from Data_import import data_frame\n",
    "from model_evaluation import *\n",
    "from _xgbod import hazard_wind_detection_XGBOD\n",
    "np.random.seed(1)\n",
    "random.seed(1)\n",
    "\n",
    "Data = data_frame()\n",
    "calm_train = Data.calm_train\n",
    "pilot_train = Data.pilot_semi_learning_generator(semi_ratio = 1)\n",
    "X_unlabel = Data.unlabeled_data_v_r[::500,::]#KNN can cause a lot of computation load\n",
    "Y_unlabel = np.zeros((X_unlabel.shape[0],1))\n",
    "train_x = np.vstack((calm_train, pilot_train))#labeled data\n",
    "train_y = np.hstack((np.zeros(calm_train.shape[0]), np.zeros(pilot_train.shape[0]) + 1))\n",
    "\n",
    "model = hazard_wind_detection_XGBOD()\n",
    "model.train_base_unsupervise_classifiers(X_unlabel)"
   ]
  },
  {
   "cell_type": "code",
   "execution_count": 2,
   "id": "e5c7aea0",
   "metadata": {},
   "outputs": [
    {
     "name": "stdout",
     "output_type": "stream",
     "text": [
      "=====================beta_imbalance = 1=====================\n",
      "superviseAUC (XGBoost): 0.8851977040816327\n",
      "semi-superviseAUC: 0.9985841836734695\n",
      "=====================beta_imbalance = 10=====================\n",
      "superviseAUC (XGBoost): 0.8787576530612244\n",
      "semi-superviseAUC: 0.9930031887755102\n",
      "=====================beta_imbalance = 100=====================\n",
      "superviseAUC (XGBoost): 0.8681908801020408\n",
      "semi-superviseAUC: 0.9687598214285714\n",
      "=====================beta_imbalance = 200=====================\n",
      "superviseAUC (XGBoost): 0.8585384885204081\n",
      "semi-superviseAUC: 0.9418404017857144\n",
      "=====================beta_imbalance = 400=====================\n",
      "superviseAUC (XGBoost): 0.8421870854591837\n",
      "semi-superviseAUC: 0.8744178411989796\n",
      "=====================beta_imbalance = 600=====================\n",
      "superviseAUC (XGBoost): 0.8282520620748299\n",
      "semi-superviseAUC: 0.8102776573129252\n",
      "=====================beta_imbalance = 800=====================\n",
      "superviseAUC (XGBoost): 0.8148447305484694\n",
      "semi-superviseAUC: 0.7593526945153062\n",
      "=====================beta_imbalance = 1000=====================\n",
      "superviseAUC (XGBoost): 0.8017956696428571\n",
      "semi-superviseAUC: 0.7196182971938776\n"
     ]
    }
   ],
   "source": [
    "import numpy as np\n",
    "from models.utility import print_baseline\n",
    "from xgboost.sklearn import XGBClassifier\n",
    "for count_imbalance, beta_imbalance in enumerate(np.array([1,10,100,200,400,600,800,1000])):\n",
    "    calm_test_x = Data.calm_test_generator(calm_ratio=beta_imbalance)\n",
    "    test_x = np.vstack((calm_test_x, Data.pilot_test_v_r))\n",
    "    test_y = np.hstack((np.zeros(calm_test_x.shape[0]), np.zeros(Data.pilot_test_v_r.shape[0]) + 1))\n",
    "    X_train_new, test_x_new, roc_list = model.unsupervised_classifiers_decision_functions(train_x, test_x, test_y)\n",
    "    X_train_all = np.concatenate((train_x, X_train_new), axis=1)\n",
    "    test_x_all = np.concatenate((test_x, test_x_new), axis=1)\n",
    "\n",
    "    # get the results of baselines\n",
    "#     print_baseline(test_x_new, test_y, roc_list)\n",
    "    clf = XGBClassifier()\n",
    "    # fully supervised\n",
    "    clf.fit(train_x, train_y.ravel())\n",
    "    y_pred = clf.predict_proba(test_x)\n",
    "    supervised_AUC, _ = calculate_metrics(decision_values=y_pred[:, 1], truth=test_y, hazard_id=1)\n",
    "\n",
    "    # unsupervised\n",
    "    clf.fit(X_train_new, train_y.ravel())\n",
    "    y_pred = clf.predict_proba(test_x_new)\n",
    "    unsupervised_AUC, _ = calculate_metrics(decision_values=y_pred[:, 1], truth=test_y, hazard_id=1)\n",
    "\n",
    "    # semi-supervised\n",
    "    clf.fit(X_train_all, train_y.ravel())\n",
    "    y_pred = clf.predict_proba(test_x_all)\n",
    "    semisupervised_AUC, _ = calculate_metrics(decision_values=y_pred[:, 1], truth=test_y, hazard_id=1)\n",
    "\n",
    "    print(f\"=====================beta_imbalance = {beta_imbalance}=====================\")\n",
    "    print(f'superviseAUC (XGBoost): {supervised_AUC}')\n",
    "    # print(f'unsuperviseAUC: {unsupervised_AUC}')\n",
    "    print(f'semi-superviseAUC: {semisupervised_AUC}')\n"
   ]
  },
  {
   "cell_type": "code",
   "execution_count": 5,
   "id": "9ed3385f",
   "metadata": {},
   "outputs": [],
   "source": [
    "XGBoost_AUC = [0.8851977040816327, 0.8787576530612244, 0.8681908801020408, 0.8585384885204081, \n",
    "               0.8421870854591837, 0.8282520620748299, 0.8148447305484694, 0.8017956696428571]\n",
    "XGBOD_AUC =   [0.9985841836734695, 0.9930031887755102, 0.9687598214285714, 0.9418404017857144,\n",
    "               0.8744178411989796, 0.8102776573129252, 0.7593526945153062, 0.7196182971938776]"
   ]
  },
  {
   "cell_type": "code",
   "execution_count": null,
   "id": "95d41ef6",
   "metadata": {},
   "outputs": [],
   "source": []
  }
 ],
 "metadata": {
  "kernelspec": {
   "display_name": "Python 3 (ipykernel)",
   "language": "python",
   "name": "python3"
  },
  "language_info": {
   "codemirror_mode": {
    "name": "ipython",
    "version": 3
   },
   "file_extension": ".py",
   "mimetype": "text/x-python",
   "name": "python",
   "nbconvert_exporter": "python",
   "pygments_lexer": "ipython3",
   "version": "3.7.0"
  }
 },
 "nbformat": 4,
 "nbformat_minor": 5
}
