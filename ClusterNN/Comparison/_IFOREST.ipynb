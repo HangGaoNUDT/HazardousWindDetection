{
 "cells": [
  {
   "cell_type": "code",
   "execution_count": 3,
   "id": "11538eb4",
   "metadata": {},
   "outputs": [
    {
     "name": "stdout",
     "output_type": "stream",
     "text": [
      "=====================beta_imbalance = 1=====================\n",
      "AUC:0.9874107142857143\n",
      "=====================beta_imbalance = 10=====================\n",
      "AUC:0.9784438775510204\n",
      "=====================beta_imbalance = 100=====================\n",
      "AUC:0.9584934948979591\n",
      "=====================beta_imbalance = 200=====================\n",
      "AUC:0.9438584821428573\n",
      "=====================beta_imbalance = 400=====================\n",
      "AUC:0.9182639349489796\n",
      "=====================beta_imbalance = 600=====================\n",
      "AUC:0.8947168154761904\n",
      "=====================beta_imbalance = 800=====================\n",
      "AUC:0.8715869100765308\n",
      "=====================beta_imbalance = 1000=====================\n",
      "AUC:0.8487100892857145\n"
     ]
    }
   ],
   "source": [
    "from sklearn.ensemble import IsolationForest\n",
    "import numpy as np\n",
    "import random\n",
    "from Data_import import data_frame\n",
    "from model_evaluation import *\n",
    "np.random.seed(1)\n",
    "random.seed(1)\n",
    "\n",
    "Data = data_frame()\n",
    "X = Data.unlabeled_data_v_r\n",
    "clf = IsolationForest(random_state=0).fit(X)\n",
    "for count_imbalance, beta_imbalance in enumerate(np.array([1,10,100,200,400,600,800,1000])):\n",
    "    calm_test_x = Data.calm_test_generator(calm_ratio=beta_imbalance)\n",
    "    test_x = np.vstack((calm_test_x, Data.pilot_test_v_r))\n",
    "    test_y = np.hstack((np.zeros(calm_test_x.shape[0])+1, np.zeros(Data.pilot_test_v_r.shape[0]) - 1))\n",
    "    test_predict = clf.decision_function(test_x)\n",
    "    test_pred = clf.predict(test_x)\n",
    "    \n",
    "    test_y_ordered = np.hstack((np.zeros(calm_test_x.shape[0]), np.zeros(Data.pilot_test_v_r.shape[0]) + 1))#[0,1]\n",
    "    test_predict_ordered = -test_predict\n",
    "    AUC, _ = calculate_metrics(decision_values = test_predict_ordered, truth = test_y_ordered, hazard_id = 1)\n",
    "    print(f\"=====================beta_imbalance = {beta_imbalance}=====================\")    \n",
    "    print(f'AUC:{AUC}')"
   ]
  },
  {
   "cell_type": "code",
   "execution_count": 2,
   "id": "7a070a7e",
   "metadata": {},
   "outputs": [],
   "source": [
    "IFOREST_AUC = [0.9874107142857143, 0.9784438775510204, 0.9584934948979591, 0.9438584821428573,\n",
    "               0.9182639349489796, 0.8947168154761904, 0.8715869100765308, 0.8487100892857145]"
   ]
  },
  {
   "cell_type": "code",
   "execution_count": null,
   "id": "4b8f9d14",
   "metadata": {},
   "outputs": [],
   "source": []
  }
 ],
 "metadata": {
  "kernelspec": {
   "display_name": "Python 3 (ipykernel)",
   "language": "python",
   "name": "python3"
  },
  "language_info": {
   "codemirror_mode": {
    "name": "ipython",
    "version": 3
   },
   "file_extension": ".py",
   "mimetype": "text/x-python",
   "name": "python",
   "nbconvert_exporter": "python",
   "pygments_lexer": "ipython3",
   "version": "3.7.0"
  }
 },
 "nbformat": 4,
 "nbformat_minor": 5
}
