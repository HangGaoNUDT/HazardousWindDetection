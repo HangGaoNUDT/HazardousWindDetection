{
 "cells": [
  {
   "cell_type": "code",
   "execution_count": 1,
   "id": "186d697b",
   "metadata": {},
   "outputs": [
    {
     "name": "stderr",
     "output_type": "stream",
     "text": [
      "D:\\anaconda\\envs\\tf_gpu\\lib\\site-packages\\tensorflow\\python\\client\\session.py:1766: UserWarning: An interactive session is already active. This can cause out-of-memory errors in some cases. You must explicitly call `InteractiveSession.close()` to release resources held by the other session(s).\n",
      "  warnings.warn('An interactive session is already active. This can '\n"
     ]
    }
   ],
   "source": [
    "import  tensorflow.compat.v1 as tf\n",
    "tf.disable_eager_execution()\n",
    "from tensorflow.compat.v1 import ConfigProto\n",
    "from tensorflow.compat.v1 import InteractiveSession\n",
    "config = ConfigProto()\n",
    "config.gpu_options.allow_growth = True\n",
    "session = InteractiveSession(config=config)\n",
    "import os\n",
    "os.environ[\"OMP_NUM_THREADS\"] = '4'\n",
    "import scipy.io as scio\n",
    "import numpy as np\n",
    "import random\n",
    "import sklearn.svm as svm\n",
    "from sklearn.decomposition import PCA\n",
    "from tensorflow import keras\n",
    "from sklearn.svm import SVC\n",
    "from tools import *\n",
    "from sklearn.manifold import TSNE\n",
    "from Data_import import data_frame\n",
    "from model_evaluation import *\n",
    "from ClusterNN import cluster_NN,svm_classifier\n",
    "# CSIs = np.zeros((4,4))\n",
    "encoded_clsuter_dims = np.array([4,10,20,30])\n",
    "AUCs = np.zeros((encoded_clsuter_dims.size,4))\n",
    "for count,encoded_clsuter_dim in enumerate(encoded_clsuter_dims):\n",
    "    metric_values_iterations_dims = scio.loadmat(f'./results_save/metric_values_iterations_encodedDim{encoded_clsuter_dim}_clusterDim{encoded_clsuter_dim}_1000.mat')\n",
    "    metric_values = metric_values_iterations_dims['metric_values']\n",
    "    ACC_TRAIN = metric_values['ACC_TRAIN'][0,0]\n",
    "    PTA = metric_values['PTA'][0,0]\n",
    "    ACC_TEST = metric_values['ACC_TEST'][0,0]\n",
    "    AUC = metric_values['AUC'][0,0]\n",
    "    CSI = metric_values['CSI'][0,0]\n",
    "#     selected_index = np.argmax(np.sum(AUC,axis = 1))\n",
    "    selected_index = -1\n",
    "    AUCs[count,::] = AUC[selected_index,::]"
   ]
  },
  {
   "cell_type": "code",
   "execution_count": 2,
   "id": "e92c6b79",
   "metadata": {},
   "outputs": [
    {
     "data": {
      "text/plain": [
       "Text(0, 0.5, 'AUC value')"
      ]
     },
     "execution_count": 2,
     "metadata": {},
     "output_type": "execute_result"
    },
    {
     "data": {
      "image/png": "[encoded data removed]",
      "text/plain": [
       "<Figure size 432x288 with 1 Axes>"
      ]
     },
     "metadata": {
      "needs_background": "light"
     },
     "output_type": "display_data"
    }
   ],
   "source": [
    "all_colors = ['#2E94B9',\"#fa625f\",'#62C8A5','#f29c2b']\n",
    "plt.figure()\n",
    "plt.plot(encoded_clsuter_dims, AUCs[::,0],'o-', color = all_colors[0],label = r'$\\beta=1$')\n",
    "plt.plot(encoded_clsuter_dims, AUCs[::,1],'P-', color = all_colors[1],label = r'$\\beta=10$')\n",
    "plt.plot(encoded_clsuter_dims, AUCs[::,2],'X-', color = all_colors[2],label = r'$\\beta=100$')\n",
    "plt.plot(encoded_clsuter_dims, AUCs[::,3],'^-', color = all_colors[3],label = r'$\\beta=1000$')\n",
    "plt.xticks(encoded_clsuter_dims,['4/4','10/10','20/20','30/30'])\n",
    "plt.grid()\n",
    "plt.legend(frameon=False)\n",
    "plt.xlabel('Dimension of the encoded/cluster features')\n",
    "plt.ylabel('AUC value')\n",
    "# plt.savefig(f'../figures/encoded_cluster_dims_cmp.png',dpi=600)\n",
    "# plt.savefig(f'../figures/encoded_cluster_dims_cmp.png',dpi=600)\n",
    "# plt.savefig(f'../figures/encoded_cluster_dims_cmp.pdf')"
   ]
  },
  {
   "cell_type": "code",
   "execution_count": null,
   "id": "f1d8e486",
   "metadata": {},
   "outputs": [],
   "source": []
  }
 ],
 "metadata": {
  "kernelspec": {
   "display_name": "Python 3 (ipykernel)",
   "language": "python",
   "name": "python3"
  },
  "language_info": {
   "codemirror_mode": {
    "name": "ipython",
    "version": 3
   },
   "file_extension": ".py",
   "mimetype": "text/x-python",
   "name": "python",
   "nbconvert_exporter": "python",
   "pygments_lexer": "ipython3",
   "version": "3.7.0"
  }
 },
 "nbformat": 4,
 "nbformat_minor": 5
}
