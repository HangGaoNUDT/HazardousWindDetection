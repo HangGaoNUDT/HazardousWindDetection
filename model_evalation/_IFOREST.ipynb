{
 "cells": [
  {
   "cell_type": "code",
   "execution_count": 2,
   "id": "11538eb4",
   "metadata": {},
   "outputs": [
    {
     "name": "stdout",
     "output_type": "stream",
     "text": [
      "=====================beta_imbalance = 800=====================\n",
      "AUC:0.8741768035079541\n"
     ]
    }
   ],
   "source": [
    "from sklearn.ensemble import IsolationForest\n",
    "import numpy as np\n",
    "import random\n",
    "from Data_import import data_frame\n",
    "from model_evaluation import *\n",
    "np.random.seed(1)\n",
    "random.seed(1)\n",
    "\n",
    "Data = data_frame()\n",
    "X = Data.unlabeled_data_v_r\n",
    "clf = IsolationForest(random_state=0).fit(X)\n",
    "for count_imbalance, beta_imbalance in enumerate(np.array([800])):\n",
    "    index = Data.calm_ratios.index(beta_imbalance)\n",
    "    calm_test_x = Data.calm_test_generator(calm_ratio_index=index)\n",
    "    test_x = np.vstack((calm_test_x, Data.pilot_test_v_r))\n",
    "    test_y = np.hstack((np.zeros(calm_test_x.shape[0])+1, np.zeros(Data.pilot_test_v_r.shape[0]) - 1))\n",
    "    test_predict = clf.decision_function(test_x)\n",
    "    test_pred = clf.predict(test_x)\n",
    "    \n",
    "    test_y_ordered = np.hstack((np.zeros(calm_test_x.shape[0]), np.zeros(Data.pilot_test_v_r.shape[0]) + 1))#[0,1]\n",
    "    test_predict_ordered = -test_predict\n",
    "    AUC, _ = calculate_metrics(decision_values = test_predict_ordered, truth = test_y_ordered, hazard_id = 1)\n",
    "    print(f\"=====================beta_imbalance = {beta_imbalance}=====================\")    \n",
    "    print(f'AUC:{AUC}')"
   ]
  },
  {
   "cell_type": "code",
   "execution_count": 18,
   "id": "7a070a7e",
   "metadata": {},
   "outputs": [
    {
     "data": {
      "image/png": "[encoded data removed]",
      "text/plain": [
       "<Figure size 432x288 with 1 Axes>"
      ]
     },
     "metadata": {
      "needs_background": "light"
     },
     "output_type": "display_data"
    }
   ],
   "source": [
    "import matplotlib.pyplot as plt\n",
    "y = [0.87417,0.806,0.90647,0.937]\n",
    "x = np.arange(4)\n",
    "plt.bar(x,y,width = 0.5,color='#2E94B9')\n",
    "plt.bar(3,0.937,width = 0.5,color='#fa625f')\n",
    "plt.grid('True')\n",
    "plt.box('False')\n",
    "plt.ylim((0.7,0.95))\n",
    "plt.savefig(f'../figures/quantitative_cmp.pdf')"
   ]
  },
  {
   "cell_type": "code",
   "execution_count": null,
   "id": "618a5999",
   "metadata": {},
   "outputs": [],
   "source": []
  }
 ],
 "metadata": {
  "kernelspec": {
   "display_name": "Python 3 (ipykernel)",
   "language": "python",
   "name": "python3"
  },
  "language_info": {
   "codemirror_mode": {
    "name": "ipython",
    "version": 3
   },
   "file_extension": ".py",
   "mimetype": "text/x-python",
   "name": "python",
   "nbconvert_exporter": "python",
   "pygments_lexer": "ipython3",
   "version": "3.7.0"
  }
 },
 "nbformat": 4,
 "nbformat_minor": 5
}
