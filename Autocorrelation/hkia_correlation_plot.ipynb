{
 "cells": [
  {
   "cell_type": "code",
   "execution_count": 1,
   "metadata": {},
   "outputs": [
    {
     "data": {
      "text/plain": [
       "{'whiskers': [<matplotlib.lines.Line2D at 0x1e67acbfac8>,\n",
       "  <matplotlib.lines.Line2D at 0x1e67acbfd30>,\n",
       "  <matplotlib.lines.Line2D at 0x1e67b37eb70>,\n",
       "  <matplotlib.lines.Line2D at 0x1e67b37e940>,\n",
       "  <matplotlib.lines.Line2D at 0x1e67b38cba8>,\n",
       "  <matplotlib.lines.Line2D at 0x1e67b38c9b0>,\n",
       "  <matplotlib.lines.Line2D at 0x1e67b39cb38>,\n",
       "  <matplotlib.lines.Line2D at 0x1e67b39c940>,\n",
       "  <matplotlib.lines.Line2D at 0x1e67b3abac8>,\n",
       "  <matplotlib.lines.Line2D at 0x1e67b3ab8d0>,\n",
       "  <matplotlib.lines.Line2D at 0x1e67b3baa58>,\n",
       "  <matplotlib.lines.Line2D at 0x1e67b3ba860>,\n",
       "  <matplotlib.lines.Line2D at 0x1e67b3c99e8>,\n",
       "  <matplotlib.lines.Line2D at 0x1e67b3c97f0>,\n",
       "  <matplotlib.lines.Line2D at 0x1e67b3d6978>,\n",
       "  <matplotlib.lines.Line2D at 0x1e67b3d6780>,\n",
       "  <matplotlib.lines.Line2D at 0x1e67b3e0908>,\n",
       "  <matplotlib.lines.Line2D at 0x1e67b3e0710>,\n",
       "  <matplotlib.lines.Line2D at 0x1e67b3f3898>,\n",
       "  <matplotlib.lines.Line2D at 0x1e67b3f36a0>,\n",
       "  <matplotlib.lines.Line2D at 0x1e67b403828>,\n",
       "  <matplotlib.lines.Line2D at 0x1e67b403630>],\n",
       " 'caps': [<matplotlib.lines.Line2D at 0x1e67acbfdd8>,\n",
       "  <matplotlib.lines.Line2D at 0x1e67b37e3c8>,\n",
       "  <matplotlib.lines.Line2D at 0x1e67b37ee80>,\n",
       "  <matplotlib.lines.Line2D at 0x1e67b38c470>,\n",
       "  <matplotlib.lines.Line2D at 0x1e67b38ce48>,\n",
       "  <matplotlib.lines.Line2D at 0x1e67b39c3c8>,\n",
       "  <matplotlib.lines.Line2D at 0x1e67b39cdd8>,\n",
       "  <matplotlib.lines.Line2D at 0x1e67b3ab358>,\n",
       "  <matplotlib.lines.Line2D at 0x1e67b3abd68>,\n",
       "  <matplotlib.lines.Line2D at 0x1e67b3ba2e8>,\n",
       "  <matplotlib.lines.Line2D at 0x1e67b3bad30>,\n",
       "  <matplotlib.lines.Line2D at 0x1e67b3baf98>,\n",
       "  <matplotlib.lines.Line2D at 0x1e67b3c9cc0>,\n",
       "  <matplotlib.lines.Line2D at 0x1e67b3c9f28>,\n",
       "  <matplotlib.lines.Line2D at 0x1e67b3d6c50>,\n",
       "  <matplotlib.lines.Line2D at 0x1e67b3d6eb8>,\n",
       "  <matplotlib.lines.Line2D at 0x1e67b3e0be0>,\n",
       "  <matplotlib.lines.Line2D at 0x1e67b3e0e48>,\n",
       "  <matplotlib.lines.Line2D at 0x1e67b3f3b70>,\n",
       "  <matplotlib.lines.Line2D at 0x1e67b3f3dd8>,\n",
       "  <matplotlib.lines.Line2D at 0x1e67b403b00>,\n",
       "  <matplotlib.lines.Line2D at 0x1e67b403d68>],\n",
       " 'boxes': [<matplotlib.patches.PathPatch at 0x1e67acbf8d0>,\n",
       "  <matplotlib.patches.PathPatch at 0x1e67b37e668>,\n",
       "  <matplotlib.patches.PathPatch at 0x1e67b38c710>,\n",
       "  <matplotlib.patches.PathPatch at 0x1e67b39c6a0>,\n",
       "  <matplotlib.patches.PathPatch at 0x1e67b3ab630>,\n",
       "  <matplotlib.patches.PathPatch at 0x1e67b3ba5c0>,\n",
       "  <matplotlib.patches.PathPatch at 0x1e67b3c9550>,\n",
       "  <matplotlib.patches.PathPatch at 0x1e67b3d64e0>,\n",
       "  <matplotlib.patches.PathPatch at 0x1e67b3e0470>,\n",
       "  <matplotlib.patches.PathPatch at 0x1e67b3f3400>,\n",
       "  <matplotlib.patches.PathPatch at 0x1e67b403390>],\n",
       " 'medians': [<matplotlib.lines.Line2D at 0x1e67b37e6a0>,\n",
       "  <matplotlib.lines.Line2D at 0x1e67b38c6d8>,\n",
       "  <matplotlib.lines.Line2D at 0x1e67b39c668>,\n",
       "  <matplotlib.lines.Line2D at 0x1e67b3ab5f8>,\n",
       "  <matplotlib.lines.Line2D at 0x1e67b3ba588>,\n",
       "  <matplotlib.lines.Line2D at 0x1e67b3c9518>,\n",
       "  <matplotlib.lines.Line2D at 0x1e67b3d64a8>,\n",
       "  <matplotlib.lines.Line2D at 0x1e67b3e0438>,\n",
       "  <matplotlib.lines.Line2D at 0x1e67b3f33c8>,\n",
       "  <matplotlib.lines.Line2D at 0x1e67b403358>,\n",
       "  <matplotlib.lines.Line2D at 0x1e67b4132e8>],\n",
       " 'fliers': [],\n",
       " 'means': []}"
      ]
     },
     "execution_count": 1,
     "metadata": {},
     "output_type": "execute_result"
    },
    {
     "data": {
      "image/png": "[encoded data removed]",
      "text/plain": [
       "<Figure size 432x288 with 1 Axes>"
      ]
     },
     "metadata": {
      "needs_background": "light"
     },
     "output_type": "display_data"
    }
   ],
   "source": [
    "import numpy as np\n",
    "import matplotlib.pyplot as plt\n",
    "import os\n",
    "import scipy.io as scio\n",
    "autocorrelation_hkia_all = scio.loadmat('autocorrelation_hkia_all.mat')\n",
    "autocorrelation_hkia_all = autocorrelation_hkia_all['ac1_all']\n",
    "# plt.plot(autocorrelation_hkia_typhoon[59:70,0])\n",
    "c= '#2E94B9'\n",
    "plt.boxplot(autocorrelation_hkia_all[59:70,::].T,showfliers=False,patch_artist=True,\n",
    "            boxprops=dict(facecolor=c, color='k'),\n",
    "            medianprops=dict(color='k'))"
   ]
  },
  {
   "cell_type": "code",
   "execution_count": 4,
   "metadata": {},
   "outputs": [
    {
     "data": {
      "text/plain": [
       "Text(0.5, 1.0, 'Hour')"
      ]
     },
     "execution_count": 4,
     "metadata": {},
     "output_type": "execute_result"
    },
    {
     "data": {
      "image/png": "[encoded data removed]",
      "text/plain": [
       "<Figure size 432x288 with 2 Axes>"
      ]
     },
     "metadata": {
      "needs_background": "light"
     },
     "output_type": "display_data"
    }
   ],
   "source": [
    "autocorrelation_hkia_2_min_hour = scio.loadmat('autocorrelation_hkia_2_min_hour.mat')\n",
    "autocorrelation_hkia_2_min_month = scio.loadmat('autocorrelation_hkia_2_min_month.mat')\n",
    "autocorrelation_hkia_2_min_hour = autocorrelation_hkia_2_min_hour['ac1_2_min_hour_median']\n",
    "autocorrelation_hkia_2_min_month = autocorrelation_hkia_2_min_month['ac1_2_min_month_median']\n",
    "fig,axs = plt.subplots(1,2,sharey=True)\n",
    "levels = np.arange(0.92, 0.97, 0.001)\n",
    "norm = plt.Normalize(-1,1)\n",
    "norm_values = ((autocorrelation_hkia_2_min_hour[0]-0.92)/(0.05))\n",
    "map_vir = plt.cm.get_cmap(name='Spectral_r')\n",
    "colors = map_vir(norm_values)\n",
    "axs[1].bar(np.arange(0,24),autocorrelation_hkia_2_min_hour[0],color=colors)\n",
    "norm_values = ((autocorrelation_hkia_2_min_month[0]-0.92)/(0.05))\n",
    "colors = map_vir(norm_values)\n",
    "axs[0].bar(np.arange(1,13),autocorrelation_hkia_2_min_month[0],color=colors)\n",
    "axs[0].set_ylim((0.935,0.958))\n",
    "axs[0].set_title('Month')\n",
    "axs[1].set_title('Hour')\n",
    "# plt.savefig('D:\\\\HKG1\\\\revise2\\\\figures\\\\ss_autocorrelation_hkia_hour_month.pdf')"
   ]
  }
 ],
 "metadata": {
  "kernelspec": {
   "display_name": "pytorch_env",
   "language": "python",
   "name": "python3"
  },
  "language_info": {
   "codemirror_mode": {
    "name": "ipython",
    "version": 3
   },
   "file_extension": ".py",
   "mimetype": "text/x-python",
   "name": "python",
   "nbconvert_exporter": "python",
   "pygments_lexer": "ipython3",
   "version": "3.7.0"
  }
 },
 "nbformat": 4,
 "nbformat_minor": 2
}
